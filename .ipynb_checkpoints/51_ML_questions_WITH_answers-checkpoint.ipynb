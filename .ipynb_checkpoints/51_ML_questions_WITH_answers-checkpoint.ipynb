{
 "cells": [
  {
   "cell_type": "markdown",
   "id": "a27b6515",
   "metadata": {},
   "source": [
    "Source: https://www.springboard.com/blog/ai-machine-learning/machine-learning-interview-questions/"
   ]
  },
  {
   "cell_type": "markdown",
   "id": "58802d2f",
   "metadata": {},
   "source": [
    "# Algorithms/Theory"
   ]
  },
  {
   "cell_type": "markdown",
   "id": "a23dfc53",
   "metadata": {},
   "source": [
    "## Q1: What’s the trade-off between bias and variance?"
   ]
  },
  {
   "cell_type": "markdown",
   "id": "da163ccd",
   "metadata": {},
   "source": []
  },
  {
   "cell_type": "markdown",
   "id": "a9cef5d1",
   "metadata": {},
   "source": [
    "## Q2: What is the difference between supervised and unsupervised machine learning?"
   ]
  },
  {
   "cell_type": "markdown",
   "id": "816a3360",
   "metadata": {},
   "source": []
  },
  {
   "cell_type": "markdown",
   "id": "aeca5e53",
   "metadata": {},
   "source": [
    "## Q3: How is KNN different from k-means clustering?"
   ]
  },
  {
   "cell_type": "markdown",
   "id": "43494022",
   "metadata": {},
   "source": []
  },
  {
   "cell_type": "markdown",
   "id": "62513506",
   "metadata": {},
   "source": [
    "## Q4: Explain how a ROC curve works."
   ]
  },
  {
   "cell_type": "markdown",
   "id": "e47bf674",
   "metadata": {},
   "source": []
  },
  {
   "cell_type": "markdown",
   "id": "ebb0b647",
   "metadata": {},
   "source": [
    "## Q5: Define precision and recall"
   ]
  },
  {
   "cell_type": "markdown",
   "id": "0dc33c8f",
   "metadata": {},
   "source": []
  },
  {
   "cell_type": "markdown",
   "id": "f9d7df75",
   "metadata": {},
   "source": [
    "## Q6: What is Bayes’ Theorem? How is it useful in a machine learning context?"
   ]
  },
  {
   "cell_type": "markdown",
   "id": "6b8a8bf8",
   "metadata": {},
   "source": []
  },
  {
   "cell_type": "markdown",
   "id": "5ab166cf",
   "metadata": {},
   "source": [
    "## Q7: Why is “Naive” Bayes naive?"
   ]
  },
  {
   "cell_type": "markdown",
   "id": "ebf44dc2",
   "metadata": {},
   "source": []
  },
  {
   "cell_type": "markdown",
   "id": "56ba7276",
   "metadata": {},
   "source": [
    "## Q8: Explain the difference between L1 and L2 regularization"
   ]
  },
  {
   "cell_type": "markdown",
   "id": "615ded35",
   "metadata": {},
   "source": []
  },
  {
   "cell_type": "markdown",
   "id": "07f0ec94",
   "metadata": {},
   "source": [
    "## Q9: What’s your favorite algorithm, and can you explain it to me in less than a minute?"
   ]
  },
  {
   "cell_type": "markdown",
   "id": "cd3e716d",
   "metadata": {},
   "source": []
  },
  {
   "cell_type": "markdown",
   "id": "616eddaf",
   "metadata": {},
   "source": [
    "## Q10: What’s the difference between Type I and Type II error?"
   ]
  },
  {
   "cell_type": "markdown",
   "id": "3a838d14",
   "metadata": {},
   "source": []
  },
  {
   "cell_type": "markdown",
   "id": "d026b085",
   "metadata": {},
   "source": [
    "## Q11: What’s a Fourier transform?"
   ]
  },
  {
   "cell_type": "markdown",
   "id": "d16af5b5",
   "metadata": {},
   "source": []
  },
  {
   "cell_type": "markdown",
   "id": "549e647f",
   "metadata": {},
   "source": [
    "## Q12: What’s the difference between probability and likelihood?"
   ]
  },
  {
   "cell_type": "markdown",
   "id": "d92f5e96",
   "metadata": {},
   "source": []
  },
  {
   "cell_type": "markdown",
   "id": "849176e0",
   "metadata": {},
   "source": [
    "## Q13: What is deep learning, and how does it contrast with other machine learning algorithms?"
   ]
  },
  {
   "cell_type": "markdown",
   "id": "61da6891",
   "metadata": {},
   "source": []
  },
  {
   "cell_type": "markdown",
   "id": "5407eae3",
   "metadata": {},
   "source": [
    "## Q14: What’s the difference between a generative and discriminative model?"
   ]
  },
  {
   "cell_type": "markdown",
   "id": "62453a55",
   "metadata": {},
   "source": []
  },
  {
   "cell_type": "markdown",
   "id": "63d0da3b",
   "metadata": {},
   "source": [
    "## Q15: What cross-validation technique would you use on a time series dataset?"
   ]
  },
  {
   "cell_type": "markdown",
   "id": "4643bb60",
   "metadata": {},
   "source": []
  },
  {
   "cell_type": "markdown",
   "id": "eab0c88e",
   "metadata": {},
   "source": [
    "## Q16: How is a decision tree pruned?"
   ]
  },
  {
   "cell_type": "markdown",
   "id": "4d8794d8",
   "metadata": {},
   "source": []
  },
  {
   "cell_type": "markdown",
   "id": "bde9cd36",
   "metadata": {},
   "source": [
    "## Q17: Which is more important to you: model accuracy or model performance?"
   ]
  },
  {
   "cell_type": "markdown",
   "id": "d6ca9195",
   "metadata": {},
   "source": []
  },
  {
   "cell_type": "markdown",
   "id": "11cf0fd7",
   "metadata": {},
   "source": [
    "## Q18: What’s the F1 score? How would you use it?"
   ]
  },
  {
   "cell_type": "markdown",
   "id": "7b02df58",
   "metadata": {},
   "source": []
  },
  {
   "cell_type": "markdown",
   "id": "e5a1e8a1",
   "metadata": {},
   "source": [
    "## Q19: How would you handle an imbalanced dataset?"
   ]
  },
  {
   "cell_type": "markdown",
   "id": "336bc176",
   "metadata": {},
   "source": []
  },
  {
   "cell_type": "markdown",
   "id": "853820dc",
   "metadata": {},
   "source": [
    "## Q20: When should you use classification over regression?"
   ]
  },
  {
   "cell_type": "markdown",
   "id": "e53156ff",
   "metadata": {},
   "source": []
  },
  {
   "cell_type": "markdown",
   "id": "703bfb70",
   "metadata": {},
   "source": [
    "## Q21: Name an example where ensemble techniques might be useful."
   ]
  },
  {
   "cell_type": "markdown",
   "id": "62fd8f00",
   "metadata": {},
   "source": []
  },
  {
   "cell_type": "markdown",
   "id": "5355920a",
   "metadata": {},
   "source": [
    "## Q22: How do you ensure you’re not overfitting with a model?"
   ]
  },
  {
   "cell_type": "markdown",
   "id": "099baaaa",
   "metadata": {},
   "source": []
  },
  {
   "cell_type": "markdown",
   "id": "51dd8ae0",
   "metadata": {},
   "source": [
    "## Q23: What evaluation approaches would you work to gauge the effectiveness of a machine learning model?"
   ]
  },
  {
   "cell_type": "markdown",
   "id": "51fef8a5",
   "metadata": {},
   "source": []
  },
  {
   "cell_type": "markdown",
   "id": "7e935b71",
   "metadata": {},
   "source": [
    "## Q24: How would you evaluate a logistic regression model?"
   ]
  },
  {
   "cell_type": "markdown",
   "id": "d7209d12",
   "metadata": {},
   "source": []
  },
  {
   "cell_type": "markdown",
   "id": "cd7e6841",
   "metadata": {},
   "source": [
    "## Q25: What’s the “kernel trick” and how is it useful?"
   ]
  },
  {
   "cell_type": "markdown",
   "id": "135dd0ae",
   "metadata": {},
   "source": []
  },
  {
   "cell_type": "markdown",
   "id": "faef2c24",
   "metadata": {},
   "source": [
    "# Programming"
   ]
  },
  {
   "cell_type": "markdown",
   "id": "e2d747fc",
   "metadata": {},
   "source": [
    "## Q26: How do you handle missing or corrupted data in a dataset?"
   ]
  },
  {
   "cell_type": "markdown",
   "id": "ab2950ba",
   "metadata": {},
   "source": []
  },
  {
   "cell_type": "markdown",
   "id": "632e87fd",
   "metadata": {},
   "source": [
    "## Q27: Do you have experience with Spark or big data tools for machine learning?"
   ]
  },
  {
   "cell_type": "markdown",
   "id": "4ba83289",
   "metadata": {},
   "source": []
  },
  {
   "cell_type": "markdown",
   "id": "64c79390",
   "metadata": {},
   "source": [
    "## Q28: Pick an algorithm. Write the pseudo-code for a parallel implementation."
   ]
  },
  {
   "cell_type": "markdown",
   "id": "3c84359d",
   "metadata": {},
   "source": []
  },
  {
   "cell_type": "markdown",
   "id": "60a50c85",
   "metadata": {},
   "source": [
    "## Q29: What are some differences between a linked list and an array?"
   ]
  },
  {
   "cell_type": "markdown",
   "id": "800d0f04",
   "metadata": {},
   "source": []
  },
  {
   "cell_type": "markdown",
   "id": "1e728528",
   "metadata": {},
   "source": [
    "## Q30: Describe a hash table."
   ]
  },
  {
   "cell_type": "markdown",
   "id": "18404c24",
   "metadata": {},
   "source": []
  },
  {
   "cell_type": "markdown",
   "id": "c31bd1f3",
   "metadata": {},
   "source": [
    "## Q31: Which data visualization libraries do you use? What are your thoughts on the best data visualization tools?"
   ]
  },
  {
   "cell_type": "markdown",
   "id": "73fbefee",
   "metadata": {},
   "source": []
  },
  {
   "cell_type": "markdown",
   "id": "9e22f3f1",
   "metadata": {},
   "source": [
    "## Q32: Given two strings, A and B, of the same length n, find whether it is possible to cut both strings at a common point such that the first part of A and the second part of B form a palindrome."
   ]
  },
  {
   "cell_type": "markdown",
   "id": "7bdad505",
   "metadata": {},
   "source": []
  },
  {
   "cell_type": "markdown",
   "id": "07fcac61",
   "metadata": {},
   "source": [
    "## Q33: How are primary and foreign keys related in SQL?"
   ]
  },
  {
   "cell_type": "markdown",
   "id": "0825a57a",
   "metadata": {},
   "source": []
  },
  {
   "cell_type": "markdown",
   "id": "26acb49e",
   "metadata": {},
   "source": [
    "## Q34: How does XML and CSVs compare in terms of size?"
   ]
  },
  {
   "cell_type": "markdown",
   "id": "d1db133f",
   "metadata": {},
   "source": []
  },
  {
   "cell_type": "markdown",
   "id": "1f301f48",
   "metadata": {},
   "source": [
    "## Q35: What are the data types supported by JSON? "
   ]
  },
  {
   "cell_type": "markdown",
   "id": "adbd15df",
   "metadata": {},
   "source": []
  },
  {
   "cell_type": "markdown",
   "id": "4cba94f5",
   "metadata": {},
   "source": [
    "## Q36: How would you build a data pipeline?"
   ]
  },
  {
   "cell_type": "markdown",
   "id": "0f76b4d8",
   "metadata": {},
   "source": []
  },
  {
   "cell_type": "markdown",
   "id": "8327bc59",
   "metadata": {},
   "source": [
    "# Company/Industry Specific"
   ]
  },
  {
   "cell_type": "markdown",
   "id": "2afb770a",
   "metadata": {},
   "source": [
    "## Q37: What do you think is the most valuable data in o"
   ]
  },
  {
   "cell_type": "markdown",
   "id": "a97f34e1",
   "metadata": {},
   "source": []
  },
  {
   "cell_type": "markdown",
   "id": "272cdc31",
   "metadata": {},
   "source": [
    "## Q38: How would you implement a recommendation system for our company’s users?"
   ]
  },
  {
   "cell_type": "markdown",
   "id": "67258352",
   "metadata": {},
   "source": []
  },
  {
   "cell_type": "markdown",
   "id": "04b760ac",
   "metadata": {},
   "source": [
    "## Q39: How can we use your machine learning skills to generate revenue?"
   ]
  },
  {
   "cell_type": "markdown",
   "id": "d8adb211",
   "metadata": {},
   "source": []
  },
  {
   "cell_type": "markdown",
   "id": "0af4b899",
   "metadata": {},
   "source": [
    "## Q40: What do you think of our current data process?"
   ]
  },
  {
   "cell_type": "markdown",
   "id": "9f756f39",
   "metadata": {},
   "source": []
  },
  {
   "cell_type": "markdown",
   "id": "4fa8189c",
   "metadata": {},
   "source": [
    "# General Machine Learning Interest"
   ]
  },
  {
   "cell_type": "markdown",
   "id": "55c017cd",
   "metadata": {},
   "source": [
    "## Q41: What are the last machine learning papers you’ve read?"
   ]
  },
  {
   "cell_type": "markdown",
   "id": "64e47df2",
   "metadata": {},
   "source": []
  },
  {
   "cell_type": "markdown",
   "id": "1bd307ef",
   "metadata": {},
   "source": [
    "## Q42: Do you have research experience in machine learning?"
   ]
  },
  {
   "cell_type": "markdown",
   "id": "f8b8432f",
   "metadata": {},
   "source": []
  },
  {
   "cell_type": "markdown",
   "id": "6f62eba8",
   "metadata": {},
   "source": [
    "## Q43: What are your favorite use cases of machine learning models?"
   ]
  },
  {
   "cell_type": "markdown",
   "id": "c174317c",
   "metadata": {},
   "source": []
  },
  {
   "cell_type": "markdown",
   "id": "e4df7b01",
   "metadata": {},
   "source": [
    "## Q44: How would you approach the “Netflix Prize” competition?"
   ]
  },
  {
   "cell_type": "markdown",
   "id": "5597ec10",
   "metadata": {},
   "source": []
  },
  {
   "cell_type": "markdown",
   "id": "9f48e63b",
   "metadata": {},
   "source": [
    "## Q45: Where do you usually source datasets?"
   ]
  },
  {
   "cell_type": "markdown",
   "id": "bf1a715e",
   "metadata": {},
   "source": []
  },
  {
   "cell_type": "markdown",
   "id": "516525bb",
   "metadata": {},
   "source": [
    "## Q46: How do you think Google is training data for self-driving cars?"
   ]
  },
  {
   "cell_type": "markdown",
   "id": "c9074746",
   "metadata": {},
   "source": []
  },
  {
   "cell_type": "markdown",
   "id": "0e8a1682",
   "metadata": {},
   "source": [
    "## Q47: How would you simulate the approach AlphaGo took to beat Lee Sedol at Go?"
   ]
  },
  {
   "cell_type": "markdown",
   "id": "d931413d",
   "metadata": {},
   "source": []
  },
  {
   "cell_type": "markdown",
   "id": "65e2aa1d",
   "metadata": {},
   "source": [
    "## Q48: What are your thoughts on GPT-3 and OpenAI’s model?"
   ]
  },
  {
   "cell_type": "markdown",
   "id": "c2810d9c",
   "metadata": {},
   "source": []
  },
  {
   "cell_type": "markdown",
   "id": "3f95ef7c",
   "metadata": {},
   "source": [
    "## Q49: What models do you train for fun, and what GPU/hardware do you use?"
   ]
  },
  {
   "cell_type": "markdown",
   "id": "ad20cce1",
   "metadata": {},
   "source": []
  },
  {
   "cell_type": "markdown",
   "id": "5aa67d2e",
   "metadata": {},
   "source": [
    "## Q50: What are some of your favorite APIs to explore? "
   ]
  },
  {
   "cell_type": "markdown",
   "id": "3bba9bca",
   "metadata": {},
   "source": []
  },
  {
   "cell_type": "markdown",
   "id": "ca6fd026",
   "metadata": {},
   "source": [
    "## Q51: How do you think quantum computing will affect machine learning?"
   ]
  },
  {
   "cell_type": "markdown",
   "id": "784c963b",
   "metadata": {},
   "source": []
  },
  {
   "cell_type": "markdown",
   "id": "22f6fd7b",
   "metadata": {},
   "source": []
  }
 ],
 "metadata": {
  "kernelspec": {
   "display_name": "Python 3 (ipykernel)",
   "language": "python",
   "name": "python3"
  },
  "language_info": {
   "codemirror_mode": {
    "name": "ipython",
    "version": 3
   },
   "file_extension": ".py",
   "mimetype": "text/x-python",
   "name": "python",
   "nbconvert_exporter": "python",
   "pygments_lexer": "ipython3",
   "version": "3.8.12"
  }
 },
 "nbformat": 4,
 "nbformat_minor": 5
}
